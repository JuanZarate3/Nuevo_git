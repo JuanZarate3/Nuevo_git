{
 "cells": [
  {
   "cell_type": "code",
   "execution_count": null,
   "metadata": {},
   "outputs": [],
   "source": []
  },
  {
   "attachments": {},
   "cell_type": "markdown",
   "metadata": {},
   "source": [
    "# Numpy"
   ]
  },
  {
   "attachments": {},
   "cell_type": "markdown",
   "metadata": {},
   "source": [
    "# Tarea 4"
   ]
  },
  {
   "attachments": {},
   "cell_type": "markdown",
   "metadata": {},
   "source": [
    "Es una librería enfocada al cálculo numérico y los arreglos -matrices-."
   ]
  },
  {
   "cell_type": "code",
   "execution_count": 1,
   "metadata": {},
   "outputs": [],
   "source": [
    "import numpy as np"
   ]
  },
  {
   "attachments": {},
   "cell_type": "markdown",
   "metadata": {},
   "source": [
    "Tarea:\n",
    "1. Crear un programa de Python que simule el lanzamiento de dados.\n",
    "2. El programa debe permitir al usuario especificar el número de dados y el número de lanzamientos a simular.\n",
    "3. El código debe retornarle al usuario en pantalla el valor de cada uno de los dados lanzados en cada lanzamiento."
   ]
  },
  {
   "cell_type": "code",
   "execution_count": 2,
   "metadata": {},
   "outputs": [],
   "source": [
    "import random"
   ]
  },
  {
   "cell_type": "code",
   "execution_count": 1,
   "metadata": {},
   "outputs": [
    {
     "name": "stdout",
     "output_type": "stream",
     "text": [
      "Lanzamiento 1: [5, 5]\n",
      "Lanzamiento 2: [3, 6]\n",
      "Lanzamiento 3: [1, 4]\n",
      "Lanzamiento 4: [1, 5]\n",
      "Lanzamiento 5: [6, 3]\n"
     ]
    }
   ],
   "source": [
    "import random\n",
    "\n",
    "def lanzamiento_de_dados(num_dados, num_lanzamientos):\n",
    "    for lanzamiento in range(num_lanzamientos):\n",
    "        resultado_lanzamiento = [random.randint(1, 6) for _ in range(num_dados)]\n",
    "        print(f\"Lanzamiento {lanzamiento + 1}: {resultado_lanzamiento}\")\n",
    "\n",
    "if __name__ == \"__main__\":\n",
    "    num_dados = 2  # Valor predeterminado para el número de dados\n",
    "    num_lanzamientos = 5  # Valor predeterminado para el número de lanzamientos\n",
    "    lanzamiento_de_dados(num_dados, num_lanzamientos)   \n"
   ]
  },
  {
   "cell_type": "markdown",
   "metadata": {},
   "source": []
  }
 ],
 "metadata": {
  "kernelspec": {
   "display_name": "ambiente_curso",
   "language": "python",
   "name": "python3"
  },
  "language_info": {
   "codemirror_mode": {
    "name": "ipython",
    "version": 3
   },
   "file_extension": ".py",
   "mimetype": "text/x-python",
   "name": "python",
   "nbconvert_exporter": "python",
   "pygments_lexer": "ipython3",
   "version": "3.10.13"
  },
  "orig_nbformat": 4
 },
 "nbformat": 4,
 "nbformat_minor": 2
}
