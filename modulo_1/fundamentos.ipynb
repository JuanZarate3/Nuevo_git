{
 "cells": [
  {
   "cell_type": "code",
   "execution_count": 8,
   "metadata": {},
   "outputs": [],
   "source": [
    "## Tarea de la sesión 3"
   ]
  },
  {
   "attachments": {},
   "cell_type": "markdown",
   "metadata": {},
   "source": [
    "## Tarea de la sesión 3"
   ]
  },
  {
   "cell_type": "markdown",
   "metadata": {},
   "source": []
  },
  {
   "attachments": {},
   "cell_type": "markdown",
   "metadata": {},
   "source": [
    "Vamos a crear un Jupyter notebook llamado \"ejercicio.ipynb\" (o como prefieras) y lo vas a subir a tu repositorio, en este debes incluir lo siguiente:\n",
    "\n",
    "1. Un algoritmo en el que el usuario deba poner coordenadas de latitud y longitud. Posteriormente, un print que muestre algo del estilo \"Las coordenadas son 62.22 N, 12.33 W\", la latitud y la longitud deben tener dos cifras significativas."
   ]
  },
  {
   "attachments": {},
   "cell_type": "markdown",
   "metadata": {},
   "source": []
  },
  {
   "cell_type": "code",
   "execution_count": 3,
   "metadata": {},
   "outputs": [],
   "source": [
    "# Solicitar al usuario ingresar las coordenadas de latitud y longitud\n",
    "latitud = float(input(\"Ingresa la latitud: \"))\n",
    "longitud = float(input(\"Ingresa la longitud: \"))\n",
    "\n"
   ]
  },
  {
   "cell_type": "code",
   "execution_count": null,
   "metadata": {},
   "outputs": [],
   "source": [
    "# Formatear las coordenadas con dos cifras significativas\n",
    "latitud_formateada = \"{:.2f}\".format(latitud)\n",
    "longitud_formateada = \"{:.2f}\".format(longitud)\n"
   ]
  },
  {
   "cell_type": "code",
   "execution_count": null,
   "metadata": {},
   "outputs": [],
   "source": [
    "\n",
    "# Imprimir el mensaje con las coordenadas formateadas\n",
    "print(f\"Las coordenadas son {latitud_formateada} N, {longitud_formateada} W\")"
   ]
  },
  {
   "attachments": {},
   "cell_type": "markdown",
   "metadata": {},
   "source": [
    "Un algoritmo en el que el usuario escriba su nombre y, posteriormente, le muestre un texto del estilo \"Hola, Juan, bienvenido a Python\"."
   ]
  },
  {
   "cell_type": "code",
   "execution_count": 1,
   "metadata": {},
   "outputs": [],
   "source": [
    "nombre = input(\"Ingresa tu nombre: \")"
   ]
  },
  {
   "cell_type": "code",
   "execution_count": 2,
   "metadata": {},
   "outputs": [
    {
     "name": "stdout",
     "output_type": "stream",
     "text": [
      "Hola, , bienvenido a Python\n"
     ]
    }
   ],
   "source": [
    "print(f\"Hola, {nombre}, bienvenido a Python\")"
   ]
  },
  {
   "attachments": {},
   "cell_type": "markdown",
   "metadata": {},
   "source": [
    "Un algoritmo en el que el usuario ingrese una temperatura en grados Celsius y el programa convierta esta temperatura a grados Fahrenheit. Después, debe imprimir un mensaje que diga \"XX°C es igual a YY°F\"."
   ]
  },
  {
   "cell_type": "code",
   "execution_count": null,
   "metadata": {},
   "outputs": [],
   "source": [
    "# Solicitar al usuario ingresar la temperatura en grados Celsius\n",
    "celsius = float(input(\"Ingresa la temperatura en grados Celsius: \"))\n",
    "\n",
    "# Realizar la conversión a grados Fahrenheit\n",
    "fahrenheit = (celsius * 9/5) + 32\n",
    "\n",
    "# Imprimir el resultado con un mensaje\n",
    "print(f\"{celsius}°C es igual a {fahrenheit:.2f}°F\")\n"
   ]
  }
 ],
 "metadata": {
  "kernelspec": {
   "display_name": "Python 3",
   "language": "python",
   "name": "python3"
  },
  "language_info": {
   "codemirror_mode": {
    "name": "ipython",
    "version": 3
   },
   "file_extension": ".py",
   "mimetype": "text/x-python",
   "name": "python",
   "nbconvert_exporter": "python",
   "pygments_lexer": "ipython3",
   "version": "3.10.13"
  },
  "orig_nbformat": 4
 },
 "nbformat": 4,
 "nbformat_minor": 2
}
